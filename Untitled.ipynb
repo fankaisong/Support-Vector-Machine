{
 "cells": [
  {
   "cell_type": "code",
   "execution_count": 10,
   "metadata": {},
   "outputs": [],
   "source": [
    "\n",
    "\n",
    "\n",
    "import pandas as pd\n",
    "import matplotlib.pyplot as plt\n",
    "from sklearn.utils import shuffle\n",
    "from sklearn.model_selection import train_test_split\n",
    "import numpy as np\n",
    "\n",
    "from SVM import *        "
   ]
  },
  {
   "cell_type": "code",
   "execution_count": 2,
   "metadata": {},
   "outputs": [],
   "source": [
    "\n",
    "\n",
    "df = pd.read_csv('iris.csv')\n",
    "\n",
    "sepalLength = df['SepalLengthCm'][:100].values\n",
    "sepalWidth = df['SepalWidthCm'][:100].values\n",
    "species = df['Species'][:100].values\n",
    "\n",
    "feature = []\n",
    "for i in range(100):\n",
    "    temp = []\n",
    "    temp = [sepalLength[i]] + [sepalWidth[i]]\n",
    "    feature.append(temp)\n",
    "\n",
    "#Iris-setosa is 1   Iris-versicolor is -1\n",
    "label = [1]*50 + [-1]*50\n",
    "\n",
    "\n",
    "#shuffle\n",
    "feature, label = shuffle(feature,label)\n",
    "#split dataset into 90% for training and 10% validation\n",
    "feature_train, feature_test, label_train, label_test = train_test_split(feature, label, test_size=0.3)\n",
    "\n",
    "\n",
    "feature_train = np.array(feature_train)\n",
    "label_train = np.array(label_train)\n",
    "\n",
    "feature_test = np.array(feature_test)\n",
    "label_test = np.array(label_test)\n"
   ]
  },
  {
   "cell_type": "code",
   "execution_count": 11,
   "metadata": {},
   "outputs": [
    {
     "ename": "AttributeError",
     "evalue": "'SVM' object has no attribute 'graph'",
     "output_type": "error",
     "traceback": [
      "\u001b[0;31m---------------------------------------------------------------------------\u001b[0m",
      "\u001b[0;31mAttributeError\u001b[0m                            Traceback (most recent call last)",
      "\u001b[0;32m<ipython-input-11-6d2c893d24ac>\u001b[0m in \u001b[0;36m<module>\u001b[0;34m\u001b[0m\n\u001b[1;32m      9\u001b[0m \u001b[0mres\u001b[0m\u001b[0;34m,\u001b[0m\u001b[0macc\u001b[0m \u001b[0;34m=\u001b[0m \u001b[0msvm\u001b[0m\u001b[0;34m.\u001b[0m\u001b[0mpredict\u001b[0m\u001b[0;34m(\u001b[0m\u001b[0mfeature_test\u001b[0m\u001b[0;34m,\u001b[0m\u001b[0mlabel_test\u001b[0m\u001b[0;34m)\u001b[0m\u001b[0;34m\u001b[0m\u001b[0;34m\u001b[0m\u001b[0m\n\u001b[1;32m     10\u001b[0m \u001b[0;34m\u001b[0m\u001b[0m\n\u001b[0;32m---> 11\u001b[0;31m \u001b[0msvm\u001b[0m\u001b[0;34m.\u001b[0m\u001b[0mgraph\u001b[0m\u001b[0;34m(\u001b[0m\u001b[0msepalLength\u001b[0m\u001b[0;34m,\u001b[0m\u001b[0msepalWidth\u001b[0m\u001b[0;34m)\u001b[0m\u001b[0;34m\u001b[0m\u001b[0;34m\u001b[0m\u001b[0m\n\u001b[0m",
      "\u001b[0;31mAttributeError\u001b[0m: 'SVM' object has no attribute 'graph'"
     ]
    }
   ],
   "source": [
    "# In[208]:\n",
    "\n",
    "\n",
    "a = 0.001\n",
    "epoch = 80\n",
    "svm = SVM()\n",
    "svm.train(feature_train, label_train, epoch, a, verbose = 0)\n",
    "\n",
    "res,acc = svm.predict(feature_test,label_test)\n",
    "\n",
    "svm.graph(sepalLength,sepalWidth)\n"
   ]
  },
  {
   "cell_type": "code",
   "execution_count": 41,
   "metadata": {},
   "outputs": [
    {
     "data": {
      "image/png": "[encoded data removed]",
      "text/plain": [
       "<Figure size 432x288 with 1 Axes>"
      ]
     },
     "metadata": {
      "needs_background": "light"
     },
     "output_type": "display_data"
    }
   ],
   "source": [
    "plt.scatter(sepalLength,sepalWidth)\n",
    "\n",
    "w1 = svm.weight[0]\n",
    "w2 = svm.weight[1]\n",
    "\n",
    "xx = np.linspace(4,7.5)\n",
    "yy1 = (-1*w1)*xx / w2\n",
    "\n",
    "a = -w[0] / w[1]\n",
    "yy2 = a * xx - (svc.intercept_[0]) / w[1]\n",
    "plt.plot(xx, yy1,label='our svm')\n",
    "plt.plot(xx, yy2, label=\"svm\")\n",
    "plt.legend()\n",
    "plt.show()"
   ]
  }
 ],
 "metadata": {
  "kernelspec": {
   "display_name": "Python 3",
   "language": "python",
   "name": "python3"
  },
  "language_info": {
   "codemirror_mode": {
    "name": "ipython",
    "version": 3
   },
   "file_extension": ".py",
   "mimetype": "text/x-python",
   "name": "python",
   "nbconvert_exporter": "python",
   "pygments_lexer": "ipython3",
   "version": "3.7.3"
  }
 },
 "nbformat": 4,
 "nbformat_minor": 2
}
